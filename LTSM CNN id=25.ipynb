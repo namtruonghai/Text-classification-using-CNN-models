{
 "cells": [
  {
   "cell_type": "code",
   "execution_count": 2,
   "metadata": {},
   "outputs": [],
   "source": [
    "import pandas as pd\n",
    "import numpy as np\n",
    "import matplotlib.pyplot as plt\n",
    "import seaborn as sns\n",
    "from sklearn.metrics import classification_report, confusion_matrix\n",
    "from tensorflow.keras.preprocessing.text import Tokenizer\n",
    "from tensorflow.keras.optimizers import Adamax\n",
    "from tensorflow.keras.metrics import Precision, Recall\n",
    "from tensorflow.keras.layers import Dense, ReLU, Flatten, LSTM, Input, MaxPooling1D, Lambda, MaxPooling2D\n",
    "from tensorflow.keras.layers import Input, Embedding, BatchNormalization, Concatenate, Reshape\n",
    "from tensorflow.keras.layers import Conv1D, GlobalMaxPooling1D, Dropout, Conv2D, SpatialDropout1D\n",
    "from tensorflow.keras.models import Sequential, Model\n",
    "from sklearn.preprocessing import LabelEncoder\n",
    "from tensorflow.keras.preprocessing.sequence import pad_sequences\n",
    "from tensorflow.keras.losses import BinaryCrossentropy, CategoricalCrossentropy\n",
    "from tensorflow.keras import regularizers\n",
    "from keras.utils import to_categorical\n",
    "import re\n",
    "import tensorflow as tf\n",
    "from sklearn.model_selection import train_test_split"
   ]
  },
  {
   "cell_type": "markdown",
   "metadata": {},
   "source": [
    "Lấy data từ 2 file X_train Y_train X_test và Y_test từ các file X_train_cleaned Y_train_cleaned X_test_cleaned Y_test_cleaned"
   ]
  },
  {
   "cell_type": "code",
   "execution_count": 3,
   "metadata": {},
   "outputs": [],
   "source": [
    "X_tr=pd.read_csv('Twitter_2/X_train_cleaned.csv',header=None,encoding='latin1')\n",
    "Y_tr=pd.read_csv('Twitter_2/Y_train_cleaned.csv',header=None)\n",
    "X_t=pd.read_csv('Twitter_2/X_test_cleaned.csv',header=None,encoding='latin1')\n",
    "Y_t=pd.read_csv('Twitter_2/Y_test_cleaned.csv',header=None)\n",
    "X_train = X_tr[0].astype(str).tolist()\n",
    "X_test = X_t[0].astype(str).tolist()\n"
   ]
  },
  {
   "cell_type": "markdown",
   "metadata": {},
   "source": [
    "Chuẩn bị data để nhét vào mô hình chuẩn bị việc train mô hình"
   ]
  },
  {
   "cell_type": "code",
   "execution_count": 4,
   "metadata": {},
   "outputs": [
    {
     "name": "stderr",
     "output_type": "stream",
     "text": [
      "c:\\Users\\ADMIN.LAPTOP-6P42KB5P\\AppData\\Local\\Programs\\Python\\Python312\\Lib\\site-packages\\sklearn\\preprocessing\\_label.py:114: DataConversionWarning: A column-vector y was passed when a 1d array was expected. Please change the shape of y to (n_samples, ), for example using ravel().\n",
      "  y = column_or_1d(y, warn=True)\n",
      "c:\\Users\\ADMIN.LAPTOP-6P42KB5P\\AppData\\Local\\Programs\\Python\\Python312\\Lib\\site-packages\\sklearn\\preprocessing\\_label.py:132: DataConversionWarning: A column-vector y was passed when a 1d array was expected. Please change the shape of y to (n_samples, ), for example using ravel().\n",
      "  y = column_or_1d(y, dtype=self.classes_.dtype, warn=True)\n"
     ]
    }
   ],
   "source": [
    "encoder=LabelEncoder()\n",
    "Y_train=encoder.fit_transform(Y_tr)\n",
    "Y_test=encoder.transform(Y_t)\n",
    "tokenizer=Tokenizer(num_words=20000)\n",
    "tokenizer.fit_on_texts(X_train)\n",
    "sequences=tokenizer.texts_to_sequences(X_train)\n",
    "tr_x=pad_sequences(sequences,maxlen=50)\n",
    "tr_y=to_categorical(Y_train)\n",
    "sequences=tokenizer.texts_to_sequences(X_test)\n",
    "t_x=pad_sequences(sequences,maxlen=50)\n",
    "t_y=to_categorical(Y_test)"
   ]
  },
  {
   "cell_type": "markdown",
   "metadata": {},
   "source": [
    "Tạo mô hình CNN để chạy data"
   ]
  },
  {
   "cell_type": "code",
   "execution_count": 7,
   "metadata": {},
   "outputs": [],
   "source": [
    "embedding_dim=300\n",
    "max_len=50\n",
    "max_word=20000\n",
    "batchsize=64\n",
    "epochs=25\n",
    "def model1():\n",
    "    inp=Input(shape=(max_len,))\n",
    "\n",
    "    embed1=Embedding(input_dim=max_word,output_dim=embedding_dim,input_length=max_len)(inp)\n",
    "    lstm=LSTM(units=128, dropout=0.3,recurrent_dropout=0.3)(embed1)\n",
    "    outp=Dense(3,activation='softmax')(lstm)\n",
    "    model=Model(inputs=inp,outputs=outp)\n",
    "    model.compile(optimizer='adam', loss='binary_crossentropy', metrics=['accuracy',Precision,Recall])\n",
    "    return model"
   ]
  },
  {
   "cell_type": "markdown",
   "metadata": {},
   "source": [
    "Chạy mô hình với data train"
   ]
  },
  {
   "cell_type": "code",
   "execution_count": 8,
   "metadata": {},
   "outputs": [
    {
     "name": "stderr",
     "output_type": "stream",
     "text": [
      "c:\\Users\\ADMIN.LAPTOP-6P42KB5P\\AppData\\Local\\Programs\\Python\\Python312\\Lib\\site-packages\\keras\\src\\layers\\core\\embedding.py:90: UserWarning: Argument `input_length` is deprecated. Just remove it.\n",
      "  warnings.warn(\n"
     ]
    },
    {
     "data": {
      "text/html": [
       "<pre style=\"white-space:pre;overflow-x:auto;line-height:normal;font-family:Menlo,'DejaVu Sans Mono',consolas,'Courier New',monospace\"><span style=\"font-weight: bold\">Model: \"functional_3\"</span>\n",
       "</pre>\n"
      ],
      "text/plain": [
       "\u001b[1mModel: \"functional_3\"\u001b[0m\n"
      ]
     },
     "metadata": {},
     "output_type": "display_data"
    },
    {
     "data": {
      "text/html": [
       "<pre style=\"white-space:pre;overflow-x:auto;line-height:normal;font-family:Menlo,'DejaVu Sans Mono',consolas,'Courier New',monospace\">┏━━━━━━━━━━━━━━━━━━━━━━━━━━━━━━━━━┳━━━━━━━━━━━━━━━━━━━━━━━━┳━━━━━━━━━━━━━━━┓\n",
       "┃<span style=\"font-weight: bold\"> Layer (type)                    </span>┃<span style=\"font-weight: bold\"> Output Shape           </span>┃<span style=\"font-weight: bold\">       Param # </span>┃\n",
       "┡━━━━━━━━━━━━━━━━━━━━━━━━━━━━━━━━━╇━━━━━━━━━━━━━━━━━━━━━━━━╇━━━━━━━━━━━━━━━┩\n",
       "│ input_layer_1 (<span style=\"color: #0087ff; text-decoration-color: #0087ff\">InputLayer</span>)      │ (<span style=\"color: #00d7ff; text-decoration-color: #00d7ff\">None</span>, <span style=\"color: #00af00; text-decoration-color: #00af00\">50</span>)             │             <span style=\"color: #00af00; text-decoration-color: #00af00\">0</span> │\n",
       "├─────────────────────────────────┼────────────────────────┼───────────────┤\n",
       "│ embedding_1 (<span style=\"color: #0087ff; text-decoration-color: #0087ff\">Embedding</span>)         │ (<span style=\"color: #00d7ff; text-decoration-color: #00d7ff\">None</span>, <span style=\"color: #00af00; text-decoration-color: #00af00\">50</span>, <span style=\"color: #00af00; text-decoration-color: #00af00\">300</span>)        │     <span style=\"color: #00af00; text-decoration-color: #00af00\">6,000,000</span> │\n",
       "├─────────────────────────────────┼────────────────────────┼───────────────┤\n",
       "│ lstm_1 (<span style=\"color: #0087ff; text-decoration-color: #0087ff\">LSTM</span>)                   │ (<span style=\"color: #00d7ff; text-decoration-color: #00d7ff\">None</span>, <span style=\"color: #00af00; text-decoration-color: #00af00\">128</span>)            │       <span style=\"color: #00af00; text-decoration-color: #00af00\">219,648</span> │\n",
       "├─────────────────────────────────┼────────────────────────┼───────────────┤\n",
       "│ dense_1 (<span style=\"color: #0087ff; text-decoration-color: #0087ff\">Dense</span>)                 │ (<span style=\"color: #00d7ff; text-decoration-color: #00d7ff\">None</span>, <span style=\"color: #00af00; text-decoration-color: #00af00\">3</span>)              │           <span style=\"color: #00af00; text-decoration-color: #00af00\">387</span> │\n",
       "└─────────────────────────────────┴────────────────────────┴───────────────┘\n",
       "</pre>\n"
      ],
      "text/plain": [
       "┏━━━━━━━━━━━━━━━━━━━━━━━━━━━━━━━━━┳━━━━━━━━━━━━━━━━━━━━━━━━┳━━━━━━━━━━━━━━━┓\n",
       "┃\u001b[1m \u001b[0m\u001b[1mLayer (type)                   \u001b[0m\u001b[1m \u001b[0m┃\u001b[1m \u001b[0m\u001b[1mOutput Shape          \u001b[0m\u001b[1m \u001b[0m┃\u001b[1m \u001b[0m\u001b[1m      Param #\u001b[0m\u001b[1m \u001b[0m┃\n",
       "┡━━━━━━━━━━━━━━━━━━━━━━━━━━━━━━━━━╇━━━━━━━━━━━━━━━━━━━━━━━━╇━━━━━━━━━━━━━━━┩\n",
       "│ input_layer_1 (\u001b[38;5;33mInputLayer\u001b[0m)      │ (\u001b[38;5;45mNone\u001b[0m, \u001b[38;5;34m50\u001b[0m)             │             \u001b[38;5;34m0\u001b[0m │\n",
       "├─────────────────────────────────┼────────────────────────┼───────────────┤\n",
       "│ embedding_1 (\u001b[38;5;33mEmbedding\u001b[0m)         │ (\u001b[38;5;45mNone\u001b[0m, \u001b[38;5;34m50\u001b[0m, \u001b[38;5;34m300\u001b[0m)        │     \u001b[38;5;34m6,000,000\u001b[0m │\n",
       "├─────────────────────────────────┼────────────────────────┼───────────────┤\n",
       "│ lstm_1 (\u001b[38;5;33mLSTM\u001b[0m)                   │ (\u001b[38;5;45mNone\u001b[0m, \u001b[38;5;34m128\u001b[0m)            │       \u001b[38;5;34m219,648\u001b[0m │\n",
       "├─────────────────────────────────┼────────────────────────┼───────────────┤\n",
       "│ dense_1 (\u001b[38;5;33mDense\u001b[0m)                 │ (\u001b[38;5;45mNone\u001b[0m, \u001b[38;5;34m3\u001b[0m)              │           \u001b[38;5;34m387\u001b[0m │\n",
       "└─────────────────────────────────┴────────────────────────┴───────────────┘\n"
      ]
     },
     "metadata": {},
     "output_type": "display_data"
    },
    {
     "data": {
      "text/html": [
       "<pre style=\"white-space:pre;overflow-x:auto;line-height:normal;font-family:Menlo,'DejaVu Sans Mono',consolas,'Courier New',monospace\"><span style=\"font-weight: bold\"> Total params: </span><span style=\"color: #00af00; text-decoration-color: #00af00\">6,220,035</span> (23.73 MB)\n",
       "</pre>\n"
      ],
      "text/plain": [
       "\u001b[1m Total params: \u001b[0m\u001b[38;5;34m6,220,035\u001b[0m (23.73 MB)\n"
      ]
     },
     "metadata": {},
     "output_type": "display_data"
    },
    {
     "data": {
      "text/html": [
       "<pre style=\"white-space:pre;overflow-x:auto;line-height:normal;font-family:Menlo,'DejaVu Sans Mono',consolas,'Courier New',monospace\"><span style=\"font-weight: bold\"> Trainable params: </span><span style=\"color: #00af00; text-decoration-color: #00af00\">6,220,035</span> (23.73 MB)\n",
       "</pre>\n"
      ],
      "text/plain": [
       "\u001b[1m Trainable params: \u001b[0m\u001b[38;5;34m6,220,035\u001b[0m (23.73 MB)\n"
      ]
     },
     "metadata": {},
     "output_type": "display_data"
    },
    {
     "data": {
      "text/html": [
       "<pre style=\"white-space:pre;overflow-x:auto;line-height:normal;font-family:Menlo,'DejaVu Sans Mono',consolas,'Courier New',monospace\"><span style=\"font-weight: bold\"> Non-trainable params: </span><span style=\"color: #00af00; text-decoration-color: #00af00\">0</span> (0.00 B)\n",
       "</pre>\n"
      ],
      "text/plain": [
       "\u001b[1m Non-trainable params: \u001b[0m\u001b[38;5;34m0\u001b[0m (0.00 B)\n"
      ]
     },
     "metadata": {},
     "output_type": "display_data"
    },
    {
     "name": "stdout",
     "output_type": "stream",
     "text": [
      "Epoch 1/25\n",
      "\u001b[1m344/344\u001b[0m \u001b[32m━━━━━━━━━━━━━━━━━━━━\u001b[0m\u001b[37m\u001b[0m \u001b[1m25s\u001b[0m 66ms/step - accuracy: 0.5130 - loss: 0.5719 - precision_1: 0.6046 - recall_1: 0.2477 - val_accuracy: 0.7084 - val_loss: 0.4165 - val_precision_1: 0.7349 - val_recall_1: 0.6784\n",
      "Epoch 2/25\n",
      "\u001b[1m344/344\u001b[0m \u001b[32m━━━━━━━━━━━━━━━━━━━━\u001b[0m\u001b[37m\u001b[0m \u001b[1m24s\u001b[0m 68ms/step - accuracy: 0.7753 - loss: 0.3478 - precision_1: 0.7969 - recall_1: 0.7469 - val_accuracy: 0.7117 - val_loss: 0.4139 - val_precision_1: 0.7323 - val_recall_1: 0.6704\n",
      "Epoch 3/25\n",
      "\u001b[1m344/344\u001b[0m \u001b[32m━━━━━━━━━━━━━━━━━━━━\u001b[0m\u001b[37m\u001b[0m \u001b[1m24s\u001b[0m 71ms/step - accuracy: 0.8476 - loss: 0.2538 - precision_1: 0.8612 - recall_1: 0.8325 - val_accuracy: 0.7175 - val_loss: 0.4346 - val_precision_1: 0.7304 - val_recall_1: 0.6953\n",
      "Epoch 4/25\n",
      "\u001b[1m344/344\u001b[0m \u001b[32m━━━━━━━━━━━━━━━━━━━━\u001b[0m\u001b[37m\u001b[0m \u001b[1m23s\u001b[0m 67ms/step - accuracy: 0.8831 - loss: 0.2018 - precision_1: 0.8928 - recall_1: 0.8707 - val_accuracy: 0.7066 - val_loss: 0.5000 - val_precision_1: 0.7178 - val_recall_1: 0.6907\n",
      "Epoch 5/25\n",
      "\u001b[1m344/344\u001b[0m \u001b[32m━━━━━━━━━━━━━━━━━━━━\u001b[0m\u001b[37m\u001b[0m \u001b[1m23s\u001b[0m 67ms/step - accuracy: 0.9136 - loss: 0.1567 - precision_1: 0.9205 - recall_1: 0.9075 - val_accuracy: 0.6995 - val_loss: 0.5357 - val_precision_1: 0.7060 - val_recall_1: 0.6836\n",
      "Epoch 6/25\n",
      "\u001b[1m344/344\u001b[0m \u001b[32m━━━━━━━━━━━━━━━━━━━━\u001b[0m\u001b[37m\u001b[0m \u001b[1m24s\u001b[0m 69ms/step - accuracy: 0.9286 - loss: 0.1290 - precision_1: 0.9363 - recall_1: 0.9228 - val_accuracy: 0.6913 - val_loss: 0.6256 - val_precision_1: 0.6998 - val_recall_1: 0.6844\n",
      "Epoch 7/25\n",
      "\u001b[1m344/344\u001b[0m \u001b[32m━━━━━━━━━━━━━━━━━━━━\u001b[0m\u001b[37m\u001b[0m \u001b[1m22s\u001b[0m 64ms/step - accuracy: 0.9483 - loss: 0.0985 - precision_1: 0.9528 - recall_1: 0.9427 - val_accuracy: 0.6851 - val_loss: 0.6708 - val_precision_1: 0.6944 - val_recall_1: 0.6720\n",
      "Epoch 8/25\n",
      "\u001b[1m344/344\u001b[0m \u001b[32m━━━━━━━━━━━━━━━━━━━━\u001b[0m\u001b[37m\u001b[0m \u001b[1m22s\u001b[0m 64ms/step - accuracy: 0.9515 - loss: 0.0878 - precision_1: 0.9571 - recall_1: 0.9457 - val_accuracy: 0.6835 - val_loss: 0.7318 - val_precision_1: 0.6916 - val_recall_1: 0.6711\n",
      "Epoch 9/25\n",
      "\u001b[1m344/344\u001b[0m \u001b[32m━━━━━━━━━━━━━━━━━━━━\u001b[0m\u001b[37m\u001b[0m \u001b[1m22s\u001b[0m 64ms/step - accuracy: 0.9606 - loss: 0.0718 - precision_1: 0.9664 - recall_1: 0.9571 - val_accuracy: 0.6815 - val_loss: 0.8404 - val_precision_1: 0.6873 - val_recall_1: 0.6722\n",
      "Epoch 10/25\n",
      "\u001b[1m344/344\u001b[0m \u001b[32m━━━━━━━━━━━━━━━━━━━━\u001b[0m\u001b[37m\u001b[0m \u001b[1m22s\u001b[0m 64ms/step - accuracy: 0.9683 - loss: 0.0619 - precision_1: 0.9726 - recall_1: 0.9633 - val_accuracy: 0.6751 - val_loss: 0.8867 - val_precision_1: 0.6779 - val_recall_1: 0.6640\n",
      "Epoch 11/25\n",
      "\u001b[1m344/344\u001b[0m \u001b[32m━━━━━━━━━━━━━━━━━━━━\u001b[0m\u001b[37m\u001b[0m \u001b[1m22s\u001b[0m 64ms/step - accuracy: 0.9693 - loss: 0.0529 - precision_1: 0.9748 - recall_1: 0.9660 - val_accuracy: 0.6713 - val_loss: 0.9473 - val_precision_1: 0.6755 - val_recall_1: 0.6616\n",
      "Epoch 12/25\n",
      "\u001b[1m344/344\u001b[0m \u001b[32m━━━━━━━━━━━━━━━━━━━━\u001b[0m\u001b[37m\u001b[0m \u001b[1m22s\u001b[0m 64ms/step - accuracy: 0.9761 - loss: 0.0432 - precision_1: 0.9788 - recall_1: 0.9735 - val_accuracy: 0.6791 - val_loss: 0.9783 - val_precision_1: 0.6851 - val_recall_1: 0.6678\n",
      "Epoch 13/25\n",
      "\u001b[1m344/344\u001b[0m \u001b[32m━━━━━━━━━━━━━━━━━━━━\u001b[0m\u001b[37m\u001b[0m \u001b[1m22s\u001b[0m 65ms/step - accuracy: 0.9794 - loss: 0.0383 - precision_1: 0.9824 - recall_1: 0.9757 - val_accuracy: 0.6704 - val_loss: 1.0721 - val_precision_1: 0.6729 - val_recall_1: 0.6613\n",
      "Epoch 14/25\n",
      "\u001b[1m344/344\u001b[0m \u001b[32m━━━━━━━━━━━━━━━━━━━━\u001b[0m\u001b[37m\u001b[0m \u001b[1m22s\u001b[0m 64ms/step - accuracy: 0.9819 - loss: 0.0335 - precision_1: 0.9840 - recall_1: 0.9803 - val_accuracy: 0.6660 - val_loss: 1.1647 - val_precision_1: 0.6740 - val_recall_1: 0.6595\n",
      "Epoch 15/25\n",
      "\u001b[1m344/344\u001b[0m \u001b[32m━━━━━━━━━━━━━━━━━━━━\u001b[0m\u001b[37m\u001b[0m \u001b[1m22s\u001b[0m 64ms/step - accuracy: 0.9831 - loss: 0.0308 - precision_1: 0.9848 - recall_1: 0.9807 - val_accuracy: 0.6676 - val_loss: 1.2117 - val_precision_1: 0.6739 - val_recall_1: 0.6589\n",
      "Epoch 16/25\n",
      "\u001b[1m344/344\u001b[0m \u001b[32m━━━━━━━━━━━━━━━━━━━━\u001b[0m\u001b[37m\u001b[0m \u001b[1m22s\u001b[0m 65ms/step - accuracy: 0.9855 - loss: 0.0296 - precision_1: 0.9869 - recall_1: 0.9830 - val_accuracy: 0.6655 - val_loss: 1.2355 - val_precision_1: 0.6708 - val_recall_1: 0.6605\n",
      "Epoch 17/25\n",
      "\u001b[1m344/344\u001b[0m \u001b[32m━━━━━━━━━━━━━━━━━━━━\u001b[0m\u001b[37m\u001b[0m \u001b[1m22s\u001b[0m 65ms/step - accuracy: 0.9872 - loss: 0.0234 - precision_1: 0.9884 - recall_1: 0.9859 - val_accuracy: 0.6631 - val_loss: 1.2646 - val_precision_1: 0.6673 - val_recall_1: 0.6540\n",
      "Epoch 18/25\n",
      "\u001b[1m344/344\u001b[0m \u001b[32m━━━━━━━━━━━━━━━━━━━━\u001b[0m\u001b[37m\u001b[0m \u001b[1m22s\u001b[0m 65ms/step - accuracy: 0.9892 - loss: 0.0218 - precision_1: 0.9884 - recall_1: 0.9880 - val_accuracy: 0.6616 - val_loss: 1.3298 - val_precision_1: 0.6648 - val_recall_1: 0.6538\n",
      "Epoch 19/25\n",
      "\u001b[1m344/344\u001b[0m \u001b[32m━━━━━━━━━━━━━━━━━━━━\u001b[0m\u001b[37m\u001b[0m \u001b[1m22s\u001b[0m 65ms/step - accuracy: 0.9924 - loss: 0.0187 - precision_1: 0.9912 - recall_1: 0.9894 - val_accuracy: 0.6607 - val_loss: 1.4000 - val_precision_1: 0.6625 - val_recall_1: 0.6529\n",
      "Epoch 20/25\n",
      "\u001b[1m344/344\u001b[0m \u001b[32m━━━━━━━━━━━━━━━━━━━━\u001b[0m\u001b[37m\u001b[0m \u001b[1m22s\u001b[0m 65ms/step - accuracy: 0.9912 - loss: 0.0167 - precision_1: 0.9918 - recall_1: 0.9898 - val_accuracy: 0.6618 - val_loss: 1.4372 - val_precision_1: 0.6644 - val_recall_1: 0.6522\n",
      "Epoch 21/25\n",
      "\u001b[1m344/344\u001b[0m \u001b[32m━━━━━━━━━━━━━━━━━━━━\u001b[0m\u001b[37m\u001b[0m \u001b[1m23s\u001b[0m 68ms/step - accuracy: 0.9923 - loss: 0.0164 - precision_1: 0.9922 - recall_1: 0.9912 - val_accuracy: 0.6642 - val_loss: 1.3818 - val_precision_1: 0.6720 - val_recall_1: 0.6574\n",
      "Epoch 22/25\n",
      "\u001b[1m344/344\u001b[0m \u001b[32m━━━━━━━━━━━━━━━━━━━━\u001b[0m\u001b[37m\u001b[0m \u001b[1m23s\u001b[0m 68ms/step - accuracy: 0.9929 - loss: 0.0150 - precision_1: 0.9932 - recall_1: 0.9917 - val_accuracy: 0.6638 - val_loss: 1.4849 - val_precision_1: 0.6651 - val_recall_1: 0.6574\n",
      "Epoch 23/25\n",
      "\u001b[1m344/344\u001b[0m \u001b[32m━━━━━━━━━━━━━━━━━━━━\u001b[0m\u001b[37m\u001b[0m \u001b[1m23s\u001b[0m 68ms/step - accuracy: 0.9940 - loss: 0.0138 - precision_1: 0.9936 - recall_1: 0.9937 - val_accuracy: 0.6573 - val_loss: 1.5547 - val_precision_1: 0.6598 - val_recall_1: 0.6513\n",
      "Epoch 24/25\n",
      "\u001b[1m344/344\u001b[0m \u001b[32m━━━━━━━━━━━━━━━━━━━━\u001b[0m\u001b[37m\u001b[0m \u001b[1m23s\u001b[0m 68ms/step - accuracy: 0.9954 - loss: 0.0107 - precision_1: 0.9947 - recall_1: 0.9948 - val_accuracy: 0.6578 - val_loss: 1.6265 - val_precision_1: 0.6622 - val_recall_1: 0.6509\n",
      "Epoch 25/25\n",
      "\u001b[1m344/344\u001b[0m \u001b[32m━━━━━━━━━━━━━━━━━━━━\u001b[0m\u001b[37m\u001b[0m \u001b[1m23s\u001b[0m 68ms/step - accuracy: 0.9946 - loss: 0.0114 - precision_1: 0.9944 - recall_1: 0.9940 - val_accuracy: 0.6580 - val_loss: 1.6513 - val_precision_1: 0.6610 - val_recall_1: 0.6545\n"
     ]
    }
   ],
   "source": [
    "model=model1()\n",
    "model.summary()\n",
    "history=model.fit(tr_x, tr_y, epochs=epochs, batch_size=batchsize, validation_split=0.2)"
   ]
  },
  {
   "cell_type": "markdown",
   "metadata": {},
   "source": [
    "Thử dữ liệu với data test"
   ]
  },
  {
   "cell_type": "code",
   "execution_count": 9,
   "metadata": {},
   "outputs": [
    {
     "name": "stdout",
     "output_type": "stream",
     "text": [
      "\u001b[1m111/111\u001b[0m \u001b[32m━━━━━━━━━━━━━━━━━━━━\u001b[0m\u001b[37m\u001b[0m \u001b[1m1s\u001b[0m 9ms/step\n",
      "              precision    recall  f1-score   support\n",
      "\n",
      "           0       0.63      0.67      0.65      1001\n",
      "           1       0.63      0.60      0.62      1430\n",
      "           2       0.71      0.71      0.71      1103\n",
      "\n",
      "    accuracy                           0.66      3534\n",
      "   macro avg       0.66      0.66      0.66      3534\n",
      "weighted avg       0.66      0.66      0.66      3534\n",
      "\n"
     ]
    }
   ],
   "source": [
    "pred_label=model.predict(t_x)\n",
    "predicted=np.argmax(pred_label,axis=1)\n",
    "true=np.argmax(t_y,axis=1)\n",
    "print(classification_report(true, predicted))\n"
   ]
  }
 ],
 "metadata": {
  "kernelspec": {
   "display_name": "Python 3",
   "language": "python",
   "name": "python3"
  },
  "language_info": {
   "codemirror_mode": {
    "name": "ipython",
    "version": 3
   },
   "file_extension": ".py",
   "mimetype": "text/x-python",
   "name": "python",
   "nbconvert_exporter": "python",
   "pygments_lexer": "ipython3",
   "version": "3.12.3"
  }
 },
 "nbformat": 4,
 "nbformat_minor": 2
}
