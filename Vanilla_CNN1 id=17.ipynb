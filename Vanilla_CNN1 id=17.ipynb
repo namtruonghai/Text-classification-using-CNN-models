{
 "cells": [
  {
   "cell_type": "code",
   "execution_count": 2,
   "metadata": {},
   "outputs": [],
   "source": [
    "import pandas as pd\n",
    "import numpy as np\n",
    "import matplotlib.pyplot as plt\n",
    "import seaborn as sns\n",
    "from sklearn.metrics import classification_report, confusion_matrix\n",
    "from tensorflow.keras.preprocessing.text import Tokenizer\n",
    "from tensorflow.keras.optimizers import Adamax\n",
    "from tensorflow.keras.metrics import Precision, Recall\n",
    "from tensorflow.keras.layers import Dense, ReLU, Flatten, LSTM, Input\n",
    "from tensorflow.keras.layers import Input, Embedding, BatchNormalization, Concatenate\n",
    "from tensorflow.keras.layers import Conv1D, GlobalMaxPooling1D, Dropout\n",
    "from tensorflow.keras.models import Sequential, Model\n",
    "from sklearn.preprocessing import LabelEncoder\n",
    "from tensorflow.keras.preprocessing.sequence import pad_sequences\n",
    "from tensorflow.keras.losses import BinaryCrossentropy, CategoricalCrossentropy\n",
    "from keras.utils import to_categorical\n",
    "import re\n",
    "from sklearn.model_selection import train_test_split"
   ]
  },
  {
   "cell_type": "markdown",
   "metadata": {},
   "source": [
    "Lấy data từ 2 file X_train Y_train X_test và Y_test từ các file X_train_cleaned Y_train_cleaned X_test_cleaned Y_test_cleaned"
   ]
  },
  {
   "cell_type": "code",
   "execution_count": 3,
   "metadata": {},
   "outputs": [],
   "source": [
    "X_tr=pd.read_csv('Twitter_2/X_train_cleaned.csv',header=None,encoding='latin1')\n",
    "Y_tr=pd.read_csv('Twitter_2/Y_train_cleaned.csv',header=None)\n",
    "X_t=pd.read_csv('Twitter_2/X_test_cleaned.csv',header=None,encoding='latin1')\n",
    "Y_t=pd.read_csv('Twitter_2/Y_test_cleaned.csv',header=None)\n",
    "X_train = X_tr[0].astype(str).tolist()\n",
    "X_test = X_t[0].astype(str).tolist()\n"
   ]
  },
  {
   "cell_type": "markdown",
   "metadata": {},
   "source": [
    "Chuẩn bị data để nhét vào mô hình chuẩn bị việc train mô hình"
   ]
  },
  {
   "cell_type": "code",
   "execution_count": 3,
   "metadata": {},
   "outputs": [
    {
     "name": "stderr",
     "output_type": "stream",
     "text": [
      "c:\\Users\\ADMIN.LAPTOP-6P42KB5P\\AppData\\Local\\Programs\\Python\\Python312\\Lib\\site-packages\\sklearn\\preprocessing\\_label.py:114: DataConversionWarning: A column-vector y was passed when a 1d array was expected. Please change the shape of y to (n_samples, ), for example using ravel().\n",
      "  y = column_or_1d(y, warn=True)\n",
      "c:\\Users\\ADMIN.LAPTOP-6P42KB5P\\AppData\\Local\\Programs\\Python\\Python312\\Lib\\site-packages\\sklearn\\preprocessing\\_label.py:132: DataConversionWarning: A column-vector y was passed when a 1d array was expected. Please change the shape of y to (n_samples, ), for example using ravel().\n",
      "  y = column_or_1d(y, dtype=self.classes_.dtype, warn=True)\n"
     ]
    }
   ],
   "source": [
    "encoder=LabelEncoder()\n",
    "Y_train=encoder.fit_transform(Y_tr)\n",
    "Y_test=encoder.transform(Y_t)\n",
    "tokenizer=Tokenizer(num_words=20000)\n",
    "tokenizer.fit_on_texts(X_train)\n",
    "sequences=tokenizer.texts_to_sequences(X_train)\n",
    "tr_x=pad_sequences(sequences,maxlen=50)\n",
    "tr_y=to_categorical(Y_train)\n",
    "sequences=tokenizer.texts_to_sequences(X_test)\n",
    "t_x=pad_sequences(sequences,maxlen=50)\n",
    "t_y=to_categorical(Y_test)"
   ]
  },
  {
   "cell_type": "markdown",
   "metadata": {},
   "source": [
    "Tạo mô hình CNN để chạy data"
   ]
  },
  {
   "cell_type": "code",
   "execution_count": 4,
   "metadata": {},
   "outputs": [],
   "source": [
    "embedding_dim=32\n",
    "max_len=50\n",
    "max_word=20000\n",
    "batchsize=64\n",
    "epochs=25\n",
    "def model1():\n",
    "    inp=Input(shape=(max_len,))\n",
    "    embed=Embedding(input_dim=max_word,output_dim=embedding_dim,input_length=max_len)(inp)\n",
    "    conv=Conv1D(64,3,padding='same',activation='relu')(embed)\n",
    "    batch=BatchNormalization()(conv)\n",
    "    relu=ReLU()(batch)\n",
    "    drop1=Dropout(0.3)(relu)\n",
    "    glob=GlobalMaxPooling1D()(drop1)\n",
    "    dense=Dense(64,activation='relu')(glob)\n",
    "    drop2=Dropout(0.3)(dense)\n",
    "    outp=Dense(3,activation='softmax')(drop2)\n",
    "\n",
    "    model=Model(inputs=inp,outputs=outp)\n",
    "    model.compile(optimizer='adam', loss='binary_crossentropy', metrics=['accuracy',Precision,Recall])\n",
    "    return model"
   ]
  },
  {
   "cell_type": "markdown",
   "metadata": {},
   "source": [
    "Chạy mô hình với data train"
   ]
  },
  {
   "cell_type": "code",
   "execution_count": 5,
   "metadata": {},
   "outputs": [
    {
     "name": "stderr",
     "output_type": "stream",
     "text": [
      "c:\\Users\\ADMIN.LAPTOP-6P42KB5P\\AppData\\Local\\Programs\\Python\\Python312\\Lib\\site-packages\\keras\\src\\layers\\core\\embedding.py:90: UserWarning: Argument `input_length` is deprecated. Just remove it.\n",
      "  warnings.warn(\n"
     ]
    },
    {
     "data": {
      "text/html": [
       "<pre style=\"white-space:pre;overflow-x:auto;line-height:normal;font-family:Menlo,'DejaVu Sans Mono',consolas,'Courier New',monospace\"><span style=\"font-weight: bold\">Model: \"functional_1\"</span>\n",
       "</pre>\n"
      ],
      "text/plain": [
       "\u001b[1mModel: \"functional_1\"\u001b[0m\n"
      ]
     },
     "metadata": {},
     "output_type": "display_data"
    },
    {
     "data": {
      "text/html": [
       "<pre style=\"white-space:pre;overflow-x:auto;line-height:normal;font-family:Menlo,'DejaVu Sans Mono',consolas,'Courier New',monospace\">┏━━━━━━━━━━━━━━━━━━━━━━━━━━━━━━━━━┳━━━━━━━━━━━━━━━━━━━━━━━━┳━━━━━━━━━━━━━━━┓\n",
       "┃<span style=\"font-weight: bold\"> Layer (type)                    </span>┃<span style=\"font-weight: bold\"> Output Shape           </span>┃<span style=\"font-weight: bold\">       Param # </span>┃\n",
       "┡━━━━━━━━━━━━━━━━━━━━━━━━━━━━━━━━━╇━━━━━━━━━━━━━━━━━━━━━━━━╇━━━━━━━━━━━━━━━┩\n",
       "│ input_layer (<span style=\"color: #0087ff; text-decoration-color: #0087ff\">InputLayer</span>)        │ (<span style=\"color: #00d7ff; text-decoration-color: #00d7ff\">None</span>, <span style=\"color: #00af00; text-decoration-color: #00af00\">50</span>)             │             <span style=\"color: #00af00; text-decoration-color: #00af00\">0</span> │\n",
       "├─────────────────────────────────┼────────────────────────┼───────────────┤\n",
       "│ embedding (<span style=\"color: #0087ff; text-decoration-color: #0087ff\">Embedding</span>)           │ (<span style=\"color: #00d7ff; text-decoration-color: #00d7ff\">None</span>, <span style=\"color: #00af00; text-decoration-color: #00af00\">50</span>, <span style=\"color: #00af00; text-decoration-color: #00af00\">32</span>)         │       <span style=\"color: #00af00; text-decoration-color: #00af00\">640,000</span> │\n",
       "├─────────────────────────────────┼────────────────────────┼───────────────┤\n",
       "│ conv1d (<span style=\"color: #0087ff; text-decoration-color: #0087ff\">Conv1D</span>)                 │ (<span style=\"color: #00d7ff; text-decoration-color: #00d7ff\">None</span>, <span style=\"color: #00af00; text-decoration-color: #00af00\">50</span>, <span style=\"color: #00af00; text-decoration-color: #00af00\">64</span>)         │         <span style=\"color: #00af00; text-decoration-color: #00af00\">6,208</span> │\n",
       "├─────────────────────────────────┼────────────────────────┼───────────────┤\n",
       "│ batch_normalization             │ (<span style=\"color: #00d7ff; text-decoration-color: #00d7ff\">None</span>, <span style=\"color: #00af00; text-decoration-color: #00af00\">50</span>, <span style=\"color: #00af00; text-decoration-color: #00af00\">64</span>)         │           <span style=\"color: #00af00; text-decoration-color: #00af00\">256</span> │\n",
       "│ (<span style=\"color: #0087ff; text-decoration-color: #0087ff\">BatchNormalization</span>)            │                        │               │\n",
       "├─────────────────────────────────┼────────────────────────┼───────────────┤\n",
       "│ global_max_pooling1d            │ (<span style=\"color: #00d7ff; text-decoration-color: #00d7ff\">None</span>, <span style=\"color: #00af00; text-decoration-color: #00af00\">64</span>)             │             <span style=\"color: #00af00; text-decoration-color: #00af00\">0</span> │\n",
       "│ (<span style=\"color: #0087ff; text-decoration-color: #0087ff\">GlobalMaxPooling1D</span>)            │                        │               │\n",
       "├─────────────────────────────────┼────────────────────────┼───────────────┤\n",
       "│ dense (<span style=\"color: #0087ff; text-decoration-color: #0087ff\">Dense</span>)                   │ (<span style=\"color: #00d7ff; text-decoration-color: #00d7ff\">None</span>, <span style=\"color: #00af00; text-decoration-color: #00af00\">3</span>)              │           <span style=\"color: #00af00; text-decoration-color: #00af00\">195</span> │\n",
       "└─────────────────────────────────┴────────────────────────┴───────────────┘\n",
       "</pre>\n"
      ],
      "text/plain": [
       "┏━━━━━━━━━━━━━━━━━━━━━━━━━━━━━━━━━┳━━━━━━━━━━━━━━━━━━━━━━━━┳━━━━━━━━━━━━━━━┓\n",
       "┃\u001b[1m \u001b[0m\u001b[1mLayer (type)                   \u001b[0m\u001b[1m \u001b[0m┃\u001b[1m \u001b[0m\u001b[1mOutput Shape          \u001b[0m\u001b[1m \u001b[0m┃\u001b[1m \u001b[0m\u001b[1m      Param #\u001b[0m\u001b[1m \u001b[0m┃\n",
       "┡━━━━━━━━━━━━━━━━━━━━━━━━━━━━━━━━━╇━━━━━━━━━━━━━━━━━━━━━━━━╇━━━━━━━━━━━━━━━┩\n",
       "│ input_layer (\u001b[38;5;33mInputLayer\u001b[0m)        │ (\u001b[38;5;45mNone\u001b[0m, \u001b[38;5;34m50\u001b[0m)             │             \u001b[38;5;34m0\u001b[0m │\n",
       "├─────────────────────────────────┼────────────────────────┼───────────────┤\n",
       "│ embedding (\u001b[38;5;33mEmbedding\u001b[0m)           │ (\u001b[38;5;45mNone\u001b[0m, \u001b[38;5;34m50\u001b[0m, \u001b[38;5;34m32\u001b[0m)         │       \u001b[38;5;34m640,000\u001b[0m │\n",
       "├─────────────────────────────────┼────────────────────────┼───────────────┤\n",
       "│ conv1d (\u001b[38;5;33mConv1D\u001b[0m)                 │ (\u001b[38;5;45mNone\u001b[0m, \u001b[38;5;34m50\u001b[0m, \u001b[38;5;34m64\u001b[0m)         │         \u001b[38;5;34m6,208\u001b[0m │\n",
       "├─────────────────────────────────┼────────────────────────┼───────────────┤\n",
       "│ batch_normalization             │ (\u001b[38;5;45mNone\u001b[0m, \u001b[38;5;34m50\u001b[0m, \u001b[38;5;34m64\u001b[0m)         │           \u001b[38;5;34m256\u001b[0m │\n",
       "│ (\u001b[38;5;33mBatchNormalization\u001b[0m)            │                        │               │\n",
       "├─────────────────────────────────┼────────────────────────┼───────────────┤\n",
       "│ global_max_pooling1d            │ (\u001b[38;5;45mNone\u001b[0m, \u001b[38;5;34m64\u001b[0m)             │             \u001b[38;5;34m0\u001b[0m │\n",
       "│ (\u001b[38;5;33mGlobalMaxPooling1D\u001b[0m)            │                        │               │\n",
       "├─────────────────────────────────┼────────────────────────┼───────────────┤\n",
       "│ dense (\u001b[38;5;33mDense\u001b[0m)                   │ (\u001b[38;5;45mNone\u001b[0m, \u001b[38;5;34m3\u001b[0m)              │           \u001b[38;5;34m195\u001b[0m │\n",
       "└─────────────────────────────────┴────────────────────────┴───────────────┘\n"
      ]
     },
     "metadata": {},
     "output_type": "display_data"
    },
    {
     "data": {
      "text/html": [
       "<pre style=\"white-space:pre;overflow-x:auto;line-height:normal;font-family:Menlo,'DejaVu Sans Mono',consolas,'Courier New',monospace\"><span style=\"font-weight: bold\"> Total params: </span><span style=\"color: #00af00; text-decoration-color: #00af00\">646,659</span> (2.47 MB)\n",
       "</pre>\n"
      ],
      "text/plain": [
       "\u001b[1m Total params: \u001b[0m\u001b[38;5;34m646,659\u001b[0m (2.47 MB)\n"
      ]
     },
     "metadata": {},
     "output_type": "display_data"
    },
    {
     "data": {
      "text/html": [
       "<pre style=\"white-space:pre;overflow-x:auto;line-height:normal;font-family:Menlo,'DejaVu Sans Mono',consolas,'Courier New',monospace\"><span style=\"font-weight: bold\"> Trainable params: </span><span style=\"color: #00af00; text-decoration-color: #00af00\">646,531</span> (2.47 MB)\n",
       "</pre>\n"
      ],
      "text/plain": [
       "\u001b[1m Trainable params: \u001b[0m\u001b[38;5;34m646,531\u001b[0m (2.47 MB)\n"
      ]
     },
     "metadata": {},
     "output_type": "display_data"
    },
    {
     "data": {
      "text/html": [
       "<pre style=\"white-space:pre;overflow-x:auto;line-height:normal;font-family:Menlo,'DejaVu Sans Mono',consolas,'Courier New',monospace\"><span style=\"font-weight: bold\"> Non-trainable params: </span><span style=\"color: #00af00; text-decoration-color: #00af00\">128</span> (512.00 B)\n",
       "</pre>\n"
      ],
      "text/plain": [
       "\u001b[1m Non-trainable params: \u001b[0m\u001b[38;5;34m128\u001b[0m (512.00 B)\n"
      ]
     },
     "metadata": {},
     "output_type": "display_data"
    },
    {
     "name": "stdout",
     "output_type": "stream",
     "text": [
      "Epoch 1/25\n",
      "\u001b[1m344/344\u001b[0m \u001b[32m━━━━━━━━━━━━━━━━━━━━\u001b[0m\u001b[37m\u001b[0m \u001b[1m3s\u001b[0m 6ms/step - accuracy: 0.4202 - loss: 4.8352 - precision: 0.4183 - recall: 0.4000 - val_accuracy: 0.3686 - val_loss: 2.6700 - val_precision: 0.8660 - val_recall: 0.0659\n",
      "Epoch 2/25\n",
      "\u001b[1m344/344\u001b[0m \u001b[32m━━━━━━━━━━━━━━━━━━━━\u001b[0m\u001b[37m\u001b[0m \u001b[1m2s\u001b[0m 5ms/step - accuracy: 0.5410 - loss: 3.5901 - precision: 0.5583 - recall: 0.4129 - val_accuracy: 0.4219 - val_loss: 3.8577 - val_precision: 0.6855 - val_recall: 0.1304\n",
      "Epoch 3/25\n",
      "\u001b[1m344/344\u001b[0m \u001b[32m━━━━━━━━━━━━━━━━━━━━\u001b[0m\u001b[37m\u001b[0m \u001b[1m2s\u001b[0m 5ms/step - accuracy: 0.4995 - loss: 3.3794 - precision: 0.6646 - recall: 0.3376 - val_accuracy: 0.4455 - val_loss: 3.9180 - val_precision: 0.4726 - val_recall: 0.4188\n",
      "Epoch 4/25\n",
      "\u001b[1m344/344\u001b[0m \u001b[32m━━━━━━━━━━━━━━━━━━━━\u001b[0m\u001b[37m\u001b[0m \u001b[1m2s\u001b[0m 5ms/step - accuracy: 0.5313 - loss: 2.9680 - precision: 0.8007 - recall: 0.4205 - val_accuracy: 0.4632 - val_loss: 3.4226 - val_precision: 0.5604 - val_recall: 0.3740\n",
      "Epoch 5/25\n",
      "\u001b[1m344/344\u001b[0m \u001b[32m━━━━━━━━━━━━━━━━━━━━\u001b[0m\u001b[37m\u001b[0m \u001b[1m2s\u001b[0m 5ms/step - accuracy: 0.5481 - loss: 2.7472 - precision: 0.8409 - recall: 0.4951 - val_accuracy: 0.4672 - val_loss: 3.4120 - val_precision: 0.6719 - val_recall: 0.2969\n",
      "Epoch 6/25\n",
      "\u001b[1m344/344\u001b[0m \u001b[32m━━━━━━━━━━━━━━━━━━━━\u001b[0m\u001b[37m\u001b[0m \u001b[1m2s\u001b[0m 5ms/step - accuracy: 0.5634 - loss: 2.6228 - precision: 0.8943 - recall: 0.4977 - val_accuracy: 0.4897 - val_loss: 3.3075 - val_precision: 0.6186 - val_recall: 0.3804\n",
      "Epoch 7/25\n",
      "\u001b[1m344/344\u001b[0m \u001b[32m━━━━━━━━━━━━━━━━━━━━\u001b[0m\u001b[37m\u001b[0m \u001b[1m2s\u001b[0m 5ms/step - accuracy: 0.5818 - loss: 2.4952 - precision: 0.9006 - recall: 0.5251 - val_accuracy: 0.5889 - val_loss: 2.6139 - val_precision: 0.5885 - val_recall: 0.5547\n",
      "Epoch 8/25\n",
      "\u001b[1m344/344\u001b[0m \u001b[32m━━━━━━━━━━━━━━━━━━━━\u001b[0m\u001b[37m\u001b[0m \u001b[1m2s\u001b[0m 5ms/step - accuracy: 0.7166 - loss: 2.0253 - precision: 0.7731 - recall: 0.6588 - val_accuracy: 0.5980 - val_loss: 3.4068 - val_precision: 0.6575 - val_recall: 0.3786\n",
      "Epoch 9/25\n",
      "\u001b[1m344/344\u001b[0m \u001b[32m━━━━━━━━━━━━━━━━━━━━\u001b[0m\u001b[37m\u001b[0m \u001b[1m2s\u001b[0m 5ms/step - accuracy: 0.7362 - loss: 2.6669 - precision: 0.7861 - recall: 0.5409 - val_accuracy: 0.5830 - val_loss: 3.4689 - val_precision: 0.6842 - val_recall: 0.3355\n",
      "Epoch 10/25\n",
      "\u001b[1m344/344\u001b[0m \u001b[32m━━━━━━━━━━━━━━━━━━━━\u001b[0m\u001b[37m\u001b[0m \u001b[1m2s\u001b[0m 5ms/step - accuracy: 0.7748 - loss: 2.4688 - precision: 0.8528 - recall: 0.5500 - val_accuracy: 0.5912 - val_loss: 3.3217 - val_precision: 0.6541 - val_recall: 0.3829\n",
      "Epoch 11/25\n",
      "\u001b[1m344/344\u001b[0m \u001b[32m━━━━━━━━━━━━━━━━━━━━\u001b[0m\u001b[37m\u001b[0m \u001b[1m2s\u001b[0m 5ms/step - accuracy: 0.8104 - loss: 2.2739 - precision: 0.8893 - recall: 0.5814 - val_accuracy: 0.5861 - val_loss: 3.3734 - val_precision: 0.6260 - val_recall: 0.3982\n",
      "Epoch 12/25\n",
      "\u001b[1m344/344\u001b[0m \u001b[32m━━━━━━━━━━━━━━━━━━━━\u001b[0m\u001b[37m\u001b[0m \u001b[1m2s\u001b[0m 5ms/step - accuracy: 0.7985 - loss: 2.3491 - precision: 0.8397 - recall: 0.5951 - val_accuracy: 0.6056 - val_loss: 3.3296 - val_precision: 0.6476 - val_recall: 0.3931\n",
      "Epoch 13/25\n",
      "\u001b[1m344/344\u001b[0m \u001b[32m━━━━━━━━━━━━━━━━━━━━\u001b[0m\u001b[37m\u001b[0m \u001b[1m2s\u001b[0m 5ms/step - accuracy: 0.8360 - loss: 2.1765 - precision: 0.9015 - recall: 0.5906 - val_accuracy: 0.6143 - val_loss: 3.2783 - val_precision: 0.6379 - val_recall: 0.4452\n",
      "Epoch 14/25\n",
      "\u001b[1m344/344\u001b[0m \u001b[32m━━━━━━━━━━━━━━━━━━━━\u001b[0m\u001b[37m\u001b[0m \u001b[1m2s\u001b[0m 5ms/step - accuracy: 0.8543 - loss: 2.1098 - precision: 0.9170 - recall: 0.6174 - val_accuracy: 0.6287 - val_loss: 3.1886 - val_precision: 0.6660 - val_recall: 0.4419\n",
      "Epoch 15/25\n",
      "\u001b[1m344/344\u001b[0m \u001b[32m━━━━━━━━━━━━━━━━━━━━\u001b[0m\u001b[37m\u001b[0m \u001b[1m2s\u001b[0m 5ms/step - accuracy: 0.8526 - loss: 2.0558 - precision: 0.9165 - recall: 0.6360 - val_accuracy: 0.5461 - val_loss: 4.2463 - val_precision: 0.5191 - val_recall: 0.5878\n",
      "Epoch 16/25\n",
      "\u001b[1m344/344\u001b[0m \u001b[32m━━━━━━━━━━━━━━━━━━━━\u001b[0m\u001b[37m\u001b[0m \u001b[1m2s\u001b[0m 5ms/step - accuracy: 0.7799 - loss: 2.4336 - precision: 0.8037 - recall: 0.6235 - val_accuracy: 0.5910 - val_loss: 3.6707 - val_precision: 0.5946 - val_recall: 0.4824\n",
      "Epoch 17/25\n",
      "\u001b[1m344/344\u001b[0m \u001b[32m━━━━━━━━━━━━━━━━━━━━\u001b[0m\u001b[37m\u001b[0m \u001b[1m2s\u001b[0m 5ms/step - accuracy: 0.7842 - loss: 2.4517 - precision: 0.8398 - recall: 0.5713 - val_accuracy: 0.5268 - val_loss: 4.4964 - val_precision: 0.4908 - val_recall: 0.5312\n",
      "Epoch 18/25\n",
      "\u001b[1m344/344\u001b[0m \u001b[32m━━━━━━━━━━━━━━━━━━━━\u001b[0m\u001b[37m\u001b[0m \u001b[1m2s\u001b[0m 5ms/step - accuracy: 0.8018 - loss: 2.4464 - precision: 0.8265 - recall: 0.5911 - val_accuracy: 0.6005 - val_loss: 3.6615 - val_precision: 0.6215 - val_recall: 0.4439\n",
      "Epoch 19/25\n",
      "\u001b[1m344/344\u001b[0m \u001b[32m━━━━━━━━━━━━━━━━━━━━\u001b[0m\u001b[37m\u001b[0m \u001b[1m2s\u001b[0m 5ms/step - accuracy: 0.8090 - loss: 2.3700 - precision: 0.8285 - recall: 0.6110 - val_accuracy: 0.6007 - val_loss: 3.6644 - val_precision: 0.6594 - val_recall: 0.3980\n",
      "Epoch 20/25\n",
      "\u001b[1m344/344\u001b[0m \u001b[32m━━━━━━━━━━━━━━━━━━━━\u001b[0m\u001b[37m\u001b[0m \u001b[1m2s\u001b[0m 5ms/step - accuracy: 0.8318 - loss: 2.3092 - precision: 0.8968 - recall: 0.5840 - val_accuracy: 0.6180 - val_loss: 3.5142 - val_precision: 0.6529 - val_recall: 0.4326\n",
      "Epoch 21/25\n",
      "\u001b[1m344/344\u001b[0m \u001b[32m━━━━━━━━━━━━━━━━━━━━\u001b[0m\u001b[37m\u001b[0m \u001b[1m2s\u001b[0m 5ms/step - accuracy: 0.8761 - loss: 1.9216 - precision: 0.9219 - recall: 0.6510 - val_accuracy: 0.6242 - val_loss: 2.8511 - val_precision: 0.6395 - val_recall: 0.5951\n",
      "Epoch 22/25\n",
      "\u001b[1m344/344\u001b[0m \u001b[32m━━━━━━━━━━━━━━━━━━━━\u001b[0m\u001b[37m\u001b[0m \u001b[1m2s\u001b[0m 5ms/step - accuracy: 0.8479 - loss: 1.2249 - precision: 0.8751 - recall: 0.7868 - val_accuracy: 0.6351 - val_loss: 2.8336 - val_precision: 0.6628 - val_recall: 0.5863\n",
      "Epoch 23/25\n",
      "\u001b[1m344/344\u001b[0m \u001b[32m━━━━━━━━━━━━━━━━━━━━\u001b[0m\u001b[37m\u001b[0m \u001b[1m2s\u001b[0m 5ms/step - accuracy: 0.8358 - loss: 1.3264 - precision: 0.8700 - recall: 0.7749 - val_accuracy: 0.4597 - val_loss: 4.1044 - val_precision: 0.6005 - val_recall: 0.3897\n",
      "Epoch 24/25\n",
      "\u001b[1m344/344\u001b[0m \u001b[32m━━━━━━━━━━━━━━━━━━━━\u001b[0m\u001b[37m\u001b[0m \u001b[1m2s\u001b[0m 5ms/step - accuracy: 0.5795 - loss: 2.9058 - precision: 0.7251 - recall: 0.5708 - val_accuracy: 0.4972 - val_loss: 4.8698 - val_precision: 0.4868 - val_recall: 0.5887\n",
      "Epoch 25/25\n",
      "\u001b[1m344/344\u001b[0m \u001b[32m━━━━━━━━━━━━━━━━━━━━\u001b[0m\u001b[37m\u001b[0m \u001b[1m2s\u001b[0m 5ms/step - accuracy: 0.4938 - loss: 4.7494 - precision: 0.5162 - recall: 0.6603 - val_accuracy: 0.5567 - val_loss: 4.2655 - val_precision: 0.5303 - val_recall: 0.6696\n"
     ]
    }
   ],
   "source": [
    "model=model1()\n",
    "model.summary()\n",
    "history=model.fit(tr_x, tr_y, epochs=epochs, batch_size=batchsize, validation_split=0.2)"
   ]
  },
  {
   "cell_type": "markdown",
   "metadata": {},
   "source": [
    "Thử dữ liệu với data test"
   ]
  },
  {
   "cell_type": "code",
   "execution_count": 6,
   "metadata": {},
   "outputs": [
    {
     "name": "stdout",
     "output_type": "stream",
     "text": [
      "\u001b[1m111/111\u001b[0m \u001b[32m━━━━━━━━━━━━━━━━━━━━\u001b[0m\u001b[37m\u001b[0m \u001b[1m0s\u001b[0m 1ms/step\n",
      "              precision    recall  f1-score   support\n",
      "\n",
      "           0       0.72      0.28      0.40      1001\n",
      "           1       0.49      0.88      0.63      1430\n",
      "           2       0.78      0.40      0.53      1103\n",
      "\n",
      "    accuracy                           0.56      3534\n",
      "   macro avg       0.66      0.52      0.52      3534\n",
      "weighted avg       0.65      0.56      0.53      3534\n",
      "\n"
     ]
    }
   ],
   "source": [
    "pred_label=model.predict(t_x)\n",
    "predicted=np.argmax(pred_label,axis=1)\n",
    "true=np.argmax(t_y,axis=1)\n",
    "print(classification_report(true, predicted))\n"
   ]
  }
 ],
 "metadata": {
  "kernelspec": {
   "display_name": "Python 3",
   "language": "python",
   "name": "python3"
  },
  "language_info": {
   "codemirror_mode": {
    "name": "ipython",
    "version": 3
   },
   "file_extension": ".py",
   "mimetype": "text/x-python",
   "name": "python",
   "nbconvert_exporter": "python",
   "pygments_lexer": "ipython3",
   "version": "3.12.3"
  }
 },
 "nbformat": 4,
 "nbformat_minor": 2
}
