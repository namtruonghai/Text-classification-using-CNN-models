{
 "cells": [
  {
   "cell_type": "code",
   "execution_count": 2,
   "metadata": {},
   "outputs": [],
   "source": [
    "import pandas as pd\n",
    "import numpy as np\n",
    "import matplotlib.pyplot as plt\n",
    "import seaborn as sns\n",
    "from sklearn.metrics import classification_report, confusion_matrix\n",
    "from tensorflow.keras.preprocessing.text import Tokenizer\n",
    "from tensorflow.keras.optimizers import Adamax\n",
    "from tensorflow.keras.metrics import Precision, Recall\n",
    "from tensorflow.keras.layers import Dense, ReLU, Flatten, LSTM, Input\n",
    "from tensorflow.keras.layers import Input, Embedding, BatchNormalization, Concatenate\n",
    "from tensorflow.keras.layers import Conv1D, GlobalMaxPooling1D, Dropout\n",
    "from tensorflow.keras.models import Sequential, Model\n",
    "from sklearn.preprocessing import LabelEncoder\n",
    "from tensorflow.keras.preprocessing.sequence import pad_sequences\n",
    "from tensorflow.keras.losses import BinaryCrossentropy, CategoricalCrossentropy\n",
    "from keras.utils import to_categorical\n",
    "import re\n",
    "from sklearn.model_selection import train_test_split"
   ]
  },
  {
   "cell_type": "markdown",
   "metadata": {},
   "source": [
    "Lấy data từ 2 file X_train Y_train X_test và Y_test từ các file X_train_cleaned Y_train_cleaned X_test_cleaned Y_test_cleaned"
   ]
  },
  {
   "cell_type": "code",
   "execution_count": 3,
   "metadata": {},
   "outputs": [],
   "source": [
    "X_tr=pd.read_csv('Twitter_2/X_train_cleaned.csv',header=None,encoding='latin1')\n",
    "Y_tr=pd.read_csv('Twitter_2/Y_train_cleaned.csv',header=None)\n",
    "X_t=pd.read_csv('Twitter_2/X_test_cleaned.csv',header=None,encoding='latin1')\n",
    "Y_t=pd.read_csv('Twitter_2/Y_test_cleaned.csv',header=None)\n",
    "X_train = X_tr[0].astype(str).tolist()\n",
    "X_test = X_t[0].astype(str).tolist()\n"
   ]
  },
  {
   "cell_type": "markdown",
   "metadata": {},
   "source": [
    "Chuẩn bị data để nhét vào mô hình chuẩn bị việc train mô hình"
   ]
  },
  {
   "cell_type": "code",
   "execution_count": 4,
   "metadata": {},
   "outputs": [
    {
     "name": "stderr",
     "output_type": "stream",
     "text": [
      "c:\\Users\\ADMIN.LAPTOP-6P42KB5P\\AppData\\Local\\Programs\\Python\\Python312\\Lib\\site-packages\\sklearn\\preprocessing\\_label.py:114: DataConversionWarning: A column-vector y was passed when a 1d array was expected. Please change the shape of y to (n_samples, ), for example using ravel().\n",
      "  y = column_or_1d(y, warn=True)\n",
      "c:\\Users\\ADMIN.LAPTOP-6P42KB5P\\AppData\\Local\\Programs\\Python\\Python312\\Lib\\site-packages\\sklearn\\preprocessing\\_label.py:132: DataConversionWarning: A column-vector y was passed when a 1d array was expected. Please change the shape of y to (n_samples, ), for example using ravel().\n",
      "  y = column_or_1d(y, dtype=self.classes_.dtype, warn=True)\n"
     ]
    }
   ],
   "source": [
    "encoder=LabelEncoder()\n",
    "Y_train=encoder.fit_transform(Y_tr)\n",
    "Y_test=encoder.transform(Y_t)\n",
    "tokenizer=Tokenizer(num_words=20000)\n",
    "tokenizer.fit_on_texts(X_train)\n",
    "sequences=tokenizer.texts_to_sequences(X_train)\n",
    "tr_x=pad_sequences(sequences,maxlen=50)\n",
    "tr_y=to_categorical(Y_train)\n",
    "sequences=tokenizer.texts_to_sequences(X_test)\n",
    "t_x=pad_sequences(sequences,maxlen=50)\n",
    "t_y=to_categorical(Y_test)"
   ]
  },
  {
   "cell_type": "markdown",
   "metadata": {},
   "source": [
    "Tạo mô hình CNN để chạy data"
   ]
  },
  {
   "cell_type": "code",
   "execution_count": 8,
   "metadata": {},
   "outputs": [],
   "source": [
    "embedding_dim=32\n",
    "max_len=50\n",
    "max_word=20000\n",
    "batchsize=64\n",
    "epochs=25\n",
    "def model1():\n",
    "    inp=Input(shape=(max_len,))\n",
    "    \n",
    "    embed=Embedding(input_dim=max_word,output_dim=embedding_dim,input_length=max_len)(inp)\n",
    "    conv=Conv1D(128,3,padding='same',activation='relu')(embed)\n",
    "    glob=GlobalMaxPooling1D()(conv)\n",
    "    drop=Dropout(0.3)(glob)\n",
    "    outp=Dense(3,activation='softmax')(drop)\n",
    "\n",
    "    model=Model(inputs=inp,outputs=outp)\n",
    "    model.compile(optimizer='adam', loss='binary_crossentropy', metrics=['accuracy',Precision,Recall])\n",
    "    return model"
   ]
  },
  {
   "cell_type": "markdown",
   "metadata": {},
   "source": [
    "Chạy mô hình với data train"
   ]
  },
  {
   "cell_type": "code",
   "execution_count": 9,
   "metadata": {},
   "outputs": [
    {
     "name": "stderr",
     "output_type": "stream",
     "text": [
      "c:\\Users\\ADMIN.LAPTOP-6P42KB5P\\AppData\\Local\\Programs\\Python\\Python312\\Lib\\site-packages\\keras\\src\\layers\\core\\embedding.py:90: UserWarning: Argument `input_length` is deprecated. Just remove it.\n",
      "  warnings.warn(\n"
     ]
    },
    {
     "data": {
      "text/html": [
       "<pre style=\"white-space:pre;overflow-x:auto;line-height:normal;font-family:Menlo,'DejaVu Sans Mono',consolas,'Courier New',monospace\"><span style=\"font-weight: bold\">Model: \"functional_3\"</span>\n",
       "</pre>\n"
      ],
      "text/plain": [
       "\u001b[1mModel: \"functional_3\"\u001b[0m\n"
      ]
     },
     "metadata": {},
     "output_type": "display_data"
    },
    {
     "data": {
      "text/html": [
       "<pre style=\"white-space:pre;overflow-x:auto;line-height:normal;font-family:Menlo,'DejaVu Sans Mono',consolas,'Courier New',monospace\">┏━━━━━━━━━━━━━━━━━━━━━━━━━━━━━━━━━┳━━━━━━━━━━━━━━━━━━━━━━━━┳━━━━━━━━━━━━━━━┓\n",
       "┃<span style=\"font-weight: bold\"> Layer (type)                    </span>┃<span style=\"font-weight: bold\"> Output Shape           </span>┃<span style=\"font-weight: bold\">       Param # </span>┃\n",
       "┡━━━━━━━━━━━━━━━━━━━━━━━━━━━━━━━━━╇━━━━━━━━━━━━━━━━━━━━━━━━╇━━━━━━━━━━━━━━━┩\n",
       "│ input_layer_1 (<span style=\"color: #0087ff; text-decoration-color: #0087ff\">InputLayer</span>)      │ (<span style=\"color: #00d7ff; text-decoration-color: #00d7ff\">None</span>, <span style=\"color: #00af00; text-decoration-color: #00af00\">50</span>)             │             <span style=\"color: #00af00; text-decoration-color: #00af00\">0</span> │\n",
       "├─────────────────────────────────┼────────────────────────┼───────────────┤\n",
       "│ embedding_1 (<span style=\"color: #0087ff; text-decoration-color: #0087ff\">Embedding</span>)         │ (<span style=\"color: #00d7ff; text-decoration-color: #00d7ff\">None</span>, <span style=\"color: #00af00; text-decoration-color: #00af00\">50</span>, <span style=\"color: #00af00; text-decoration-color: #00af00\">32</span>)         │       <span style=\"color: #00af00; text-decoration-color: #00af00\">640,000</span> │\n",
       "├─────────────────────────────────┼────────────────────────┼───────────────┤\n",
       "│ conv1d_1 (<span style=\"color: #0087ff; text-decoration-color: #0087ff\">Conv1D</span>)               │ (<span style=\"color: #00d7ff; text-decoration-color: #00d7ff\">None</span>, <span style=\"color: #00af00; text-decoration-color: #00af00\">50</span>, <span style=\"color: #00af00; text-decoration-color: #00af00\">128</span>)        │        <span style=\"color: #00af00; text-decoration-color: #00af00\">12,416</span> │\n",
       "├─────────────────────────────────┼────────────────────────┼───────────────┤\n",
       "│ global_max_pooling1d_1          │ (<span style=\"color: #00d7ff; text-decoration-color: #00d7ff\">None</span>, <span style=\"color: #00af00; text-decoration-color: #00af00\">128</span>)            │             <span style=\"color: #00af00; text-decoration-color: #00af00\">0</span> │\n",
       "│ (<span style=\"color: #0087ff; text-decoration-color: #0087ff\">GlobalMaxPooling1D</span>)            │                        │               │\n",
       "├─────────────────────────────────┼────────────────────────┼───────────────┤\n",
       "│ dropout_1 (<span style=\"color: #0087ff; text-decoration-color: #0087ff\">Dropout</span>)             │ (<span style=\"color: #00d7ff; text-decoration-color: #00d7ff\">None</span>, <span style=\"color: #00af00; text-decoration-color: #00af00\">128</span>)            │             <span style=\"color: #00af00; text-decoration-color: #00af00\">0</span> │\n",
       "├─────────────────────────────────┼────────────────────────┼───────────────┤\n",
       "│ dense_1 (<span style=\"color: #0087ff; text-decoration-color: #0087ff\">Dense</span>)                 │ (<span style=\"color: #00d7ff; text-decoration-color: #00d7ff\">None</span>, <span style=\"color: #00af00; text-decoration-color: #00af00\">3</span>)              │           <span style=\"color: #00af00; text-decoration-color: #00af00\">387</span> │\n",
       "└─────────────────────────────────┴────────────────────────┴───────────────┘\n",
       "</pre>\n"
      ],
      "text/plain": [
       "┏━━━━━━━━━━━━━━━━━━━━━━━━━━━━━━━━━┳━━━━━━━━━━━━━━━━━━━━━━━━┳━━━━━━━━━━━━━━━┓\n",
       "┃\u001b[1m \u001b[0m\u001b[1mLayer (type)                   \u001b[0m\u001b[1m \u001b[0m┃\u001b[1m \u001b[0m\u001b[1mOutput Shape          \u001b[0m\u001b[1m \u001b[0m┃\u001b[1m \u001b[0m\u001b[1m      Param #\u001b[0m\u001b[1m \u001b[0m┃\n",
       "┡━━━━━━━━━━━━━━━━━━━━━━━━━━━━━━━━━╇━━━━━━━━━━━━━━━━━━━━━━━━╇━━━━━━━━━━━━━━━┩\n",
       "│ input_layer_1 (\u001b[38;5;33mInputLayer\u001b[0m)      │ (\u001b[38;5;45mNone\u001b[0m, \u001b[38;5;34m50\u001b[0m)             │             \u001b[38;5;34m0\u001b[0m │\n",
       "├─────────────────────────────────┼────────────────────────┼───────────────┤\n",
       "│ embedding_1 (\u001b[38;5;33mEmbedding\u001b[0m)         │ (\u001b[38;5;45mNone\u001b[0m, \u001b[38;5;34m50\u001b[0m, \u001b[38;5;34m32\u001b[0m)         │       \u001b[38;5;34m640,000\u001b[0m │\n",
       "├─────────────────────────────────┼────────────────────────┼───────────────┤\n",
       "│ conv1d_1 (\u001b[38;5;33mConv1D\u001b[0m)               │ (\u001b[38;5;45mNone\u001b[0m, \u001b[38;5;34m50\u001b[0m, \u001b[38;5;34m128\u001b[0m)        │        \u001b[38;5;34m12,416\u001b[0m │\n",
       "├─────────────────────────────────┼────────────────────────┼───────────────┤\n",
       "│ global_max_pooling1d_1          │ (\u001b[38;5;45mNone\u001b[0m, \u001b[38;5;34m128\u001b[0m)            │             \u001b[38;5;34m0\u001b[0m │\n",
       "│ (\u001b[38;5;33mGlobalMaxPooling1D\u001b[0m)            │                        │               │\n",
       "├─────────────────────────────────┼────────────────────────┼───────────────┤\n",
       "│ dropout_1 (\u001b[38;5;33mDropout\u001b[0m)             │ (\u001b[38;5;45mNone\u001b[0m, \u001b[38;5;34m128\u001b[0m)            │             \u001b[38;5;34m0\u001b[0m │\n",
       "├─────────────────────────────────┼────────────────────────┼───────────────┤\n",
       "│ dense_1 (\u001b[38;5;33mDense\u001b[0m)                 │ (\u001b[38;5;45mNone\u001b[0m, \u001b[38;5;34m3\u001b[0m)              │           \u001b[38;5;34m387\u001b[0m │\n",
       "└─────────────────────────────────┴────────────────────────┴───────────────┘\n"
      ]
     },
     "metadata": {},
     "output_type": "display_data"
    },
    {
     "data": {
      "text/html": [
       "<pre style=\"white-space:pre;overflow-x:auto;line-height:normal;font-family:Menlo,'DejaVu Sans Mono',consolas,'Courier New',monospace\"><span style=\"font-weight: bold\"> Total params: </span><span style=\"color: #00af00; text-decoration-color: #00af00\">652,803</span> (2.49 MB)\n",
       "</pre>\n"
      ],
      "text/plain": [
       "\u001b[1m Total params: \u001b[0m\u001b[38;5;34m652,803\u001b[0m (2.49 MB)\n"
      ]
     },
     "metadata": {},
     "output_type": "display_data"
    },
    {
     "data": {
      "text/html": [
       "<pre style=\"white-space:pre;overflow-x:auto;line-height:normal;font-family:Menlo,'DejaVu Sans Mono',consolas,'Courier New',monospace\"><span style=\"font-weight: bold\"> Trainable params: </span><span style=\"color: #00af00; text-decoration-color: #00af00\">652,803</span> (2.49 MB)\n",
       "</pre>\n"
      ],
      "text/plain": [
       "\u001b[1m Trainable params: \u001b[0m\u001b[38;5;34m652,803\u001b[0m (2.49 MB)\n"
      ]
     },
     "metadata": {},
     "output_type": "display_data"
    },
    {
     "data": {
      "text/html": [
       "<pre style=\"white-space:pre;overflow-x:auto;line-height:normal;font-family:Menlo,'DejaVu Sans Mono',consolas,'Courier New',monospace\"><span style=\"font-weight: bold\"> Non-trainable params: </span><span style=\"color: #00af00; text-decoration-color: #00af00\">0</span> (0.00 B)\n",
       "</pre>\n"
      ],
      "text/plain": [
       "\u001b[1m Non-trainable params: \u001b[0m\u001b[38;5;34m0\u001b[0m (0.00 B)\n"
      ]
     },
     "metadata": {},
     "output_type": "display_data"
    },
    {
     "name": "stdout",
     "output_type": "stream",
     "text": [
      "Epoch 1/25\n",
      "\u001b[1m344/344\u001b[0m \u001b[32m━━━━━━━━━━━━━━━━━━━━\u001b[0m\u001b[37m\u001b[0m \u001b[1m3s\u001b[0m 6ms/step - accuracy: 0.4058 - loss: 0.8683 - precision_1: 0.3331 - recall_1: 0.0098 - val_accuracy: 0.5741 - val_loss: 0.5685 - val_precision_1: 0.8946 - val_recall_1: 0.0788\n",
      "Epoch 2/25\n",
      "\u001b[1m344/344\u001b[0m \u001b[32m━━━━━━━━━━━━━━━━━━━━\u001b[0m\u001b[37m\u001b[0m \u001b[1m2s\u001b[0m 5ms/step - accuracy: 0.6376 - loss: 0.5285 - precision_1: 0.7671 - recall_1: 0.2565 - val_accuracy: 0.7089 - val_loss: 0.4814 - val_precision_1: 0.7548 - val_recall_1: 0.5594\n",
      "Epoch 3/25\n",
      "\u001b[1m344/344\u001b[0m \u001b[32m━━━━━━━━━━━━━━━━━━━━\u001b[0m\u001b[37m\u001b[0m \u001b[1m2s\u001b[0m 5ms/step - accuracy: 0.7457 - loss: 0.4343 - precision_1: 0.7675 - recall_1: 0.6425 - val_accuracy: 0.7215 - val_loss: 0.4947 - val_precision_1: 0.7553 - val_recall_1: 0.6232\n",
      "Epoch 4/25\n",
      "\u001b[1m344/344\u001b[0m \u001b[32m━━━━━━━━━━━━━━━━━━━━\u001b[0m\u001b[37m\u001b[0m \u001b[1m2s\u001b[0m 5ms/step - accuracy: 0.8008 - loss: 0.3831 - precision_1: 0.8157 - recall_1: 0.7206 - val_accuracy: 0.7042 - val_loss: 0.5870 - val_precision_1: 0.7655 - val_recall_1: 0.4490\n",
      "Epoch 5/25\n",
      "\u001b[1m344/344\u001b[0m \u001b[32m━━━━━━━━━━━━━━━━━━━━\u001b[0m\u001b[37m\u001b[0m \u001b[1m2s\u001b[0m 5ms/step - accuracy: 0.8410 - loss: 0.3614 - precision_1: 0.8637 - recall_1: 0.7041 - val_accuracy: 0.6980 - val_loss: 0.6497 - val_precision_1: 0.7076 - val_recall_1: 0.6129\n",
      "Epoch 6/25\n",
      "\u001b[1m344/344\u001b[0m \u001b[32m━━━━━━━━━━━━━━━━━━━━\u001b[0m\u001b[37m\u001b[0m \u001b[1m2s\u001b[0m 5ms/step - accuracy: 0.8717 - loss: 0.2961 - precision_1: 0.8786 - recall_1: 0.8062 - val_accuracy: 0.6909 - val_loss: 0.8171 - val_precision_1: 0.7151 - val_recall_1: 0.5969\n",
      "Epoch 7/25\n",
      "\u001b[1m344/344\u001b[0m \u001b[32m━━━━━━━━━━━━━━━━━━━━\u001b[0m\u001b[37m\u001b[0m \u001b[1m2s\u001b[0m 5ms/step - accuracy: 0.9008 - loss: 0.2484 - precision_1: 0.9033 - recall_1: 0.8522 - val_accuracy: 0.6751 - val_loss: 0.9372 - val_precision_1: 0.6973 - val_recall_1: 0.6111\n",
      "Epoch 8/25\n",
      "\u001b[1m344/344\u001b[0m \u001b[32m━━━━━━━━━━━━━━━━━━━━\u001b[0m\u001b[37m\u001b[0m \u001b[1m2s\u001b[0m 5ms/step - accuracy: 0.9119 - loss: 0.2341 - precision_1: 0.9227 - recall_1: 0.8519 - val_accuracy: 0.6780 - val_loss: 1.0430 - val_precision_1: 0.6740 - val_recall_1: 0.6360\n",
      "Epoch 9/25\n",
      "\u001b[1m344/344\u001b[0m \u001b[32m━━━━━━━━━━━━━━━━━━━━\u001b[0m\u001b[37m\u001b[0m \u001b[1m2s\u001b[0m 5ms/step - accuracy: 0.9241 - loss: 0.2088 - precision_1: 0.9165 - recall_1: 0.8969 - val_accuracy: 0.6489 - val_loss: 1.3153 - val_precision_1: 0.6134 - val_recall_1: 0.6998\n",
      "Epoch 10/25\n",
      "\u001b[1m344/344\u001b[0m \u001b[32m━━━━━━━━━━━━━━━━━━━━\u001b[0m\u001b[37m\u001b[0m \u001b[1m2s\u001b[0m 5ms/step - accuracy: 0.9235 - loss: 0.2183 - precision_1: 0.9006 - recall_1: 0.9070 - val_accuracy: 0.6642 - val_loss: 1.2532 - val_precision_1: 0.6795 - val_recall_1: 0.6080\n",
      "Epoch 11/25\n",
      "\u001b[1m344/344\u001b[0m \u001b[32m━━━━━━━━━━━━━━━━━━━━\u001b[0m\u001b[37m\u001b[0m \u001b[1m2s\u001b[0m 5ms/step - accuracy: 0.9399 - loss: 0.1786 - precision_1: 0.9384 - recall_1: 0.9113 - val_accuracy: 0.5991 - val_loss: 1.8490 - val_precision_1: 0.6350 - val_recall_1: 0.4857\n",
      "Epoch 12/25\n",
      "\u001b[1m344/344\u001b[0m \u001b[32m━━━━━━━━━━━━━━━━━━━━\u001b[0m\u001b[37m\u001b[0m \u001b[1m2s\u001b[0m 5ms/step - accuracy: 0.9221 - loss: 0.2887 - precision_1: 0.9437 - recall_1: 0.8401 - val_accuracy: 0.6544 - val_loss: 1.4619 - val_precision_1: 0.6642 - val_recall_1: 0.5978\n",
      "Epoch 13/25\n",
      "\u001b[1m344/344\u001b[0m \u001b[32m━━━━━━━━━━━━━━━━━━━━\u001b[0m\u001b[37m\u001b[0m \u001b[1m2s\u001b[0m 5ms/step - accuracy: 0.9471 - loss: 0.1637 - precision_1: 0.9409 - recall_1: 0.9220 - val_accuracy: 0.6491 - val_loss: 1.4834 - val_precision_1: 0.6389 - val_recall_1: 0.6258\n",
      "Epoch 14/25\n",
      "\u001b[1m344/344\u001b[0m \u001b[32m━━━━━━━━━━━━━━━━━━━━\u001b[0m\u001b[37m\u001b[0m \u001b[1m2s\u001b[0m 5ms/step - accuracy: 0.9520 - loss: 0.1548 - precision_1: 0.9447 - recall_1: 0.9282 - val_accuracy: 0.6485 - val_loss: 1.5919 - val_precision_1: 0.6637 - val_recall_1: 0.5971\n",
      "Epoch 15/25\n",
      "\u001b[1m344/344\u001b[0m \u001b[32m━━━━━━━━━━━━━━━━━━━━\u001b[0m\u001b[37m\u001b[0m \u001b[1m2s\u001b[0m 5ms/step - accuracy: 0.9562 - loss: 0.1449 - precision_1: 0.9555 - recall_1: 0.9317 - val_accuracy: 0.6484 - val_loss: 1.5938 - val_precision_1: 0.6441 - val_recall_1: 0.6504\n",
      "Epoch 16/25\n",
      "\u001b[1m344/344\u001b[0m \u001b[32m━━━━━━━━━━━━━━━━━━━━\u001b[0m\u001b[37m\u001b[0m \u001b[1m2s\u001b[0m 5ms/step - accuracy: 0.9498 - loss: 0.1543 - precision_1: 0.9346 - recall_1: 0.9401 - val_accuracy: 0.6462 - val_loss: 1.7094 - val_precision_1: 0.6491 - val_recall_1: 0.6303\n",
      "Epoch 17/25\n",
      "\u001b[1m344/344\u001b[0m \u001b[32m━━━━━━━━━━━━━━━━━━━━\u001b[0m\u001b[37m\u001b[0m \u001b[1m2s\u001b[0m 5ms/step - accuracy: 0.9598 - loss: 0.1345 - precision_1: 0.9503 - recall_1: 0.9466 - val_accuracy: 0.6387 - val_loss: 1.8041 - val_precision_1: 0.6685 - val_recall_1: 0.5499\n",
      "Epoch 18/25\n",
      "\u001b[1m344/344\u001b[0m \u001b[32m━━━━━━━━━━━━━━━━━━━━\u001b[0m\u001b[37m\u001b[0m \u001b[1m2s\u001b[0m 5ms/step - accuracy: 0.9605 - loss: 0.1389 - precision_1: 0.9596 - recall_1: 0.9299 - val_accuracy: 0.6387 - val_loss: 1.8180 - val_precision_1: 0.6428 - val_recall_1: 0.6098\n",
      "Epoch 19/25\n",
      "\u001b[1m344/344\u001b[0m \u001b[32m━━━━━━━━━━━━━━━━━━━━\u001b[0m\u001b[37m\u001b[0m \u001b[1m2s\u001b[0m 5ms/step - accuracy: 0.9673 - loss: 0.1076 - precision_1: 0.9593 - recall_1: 0.9554 - val_accuracy: 0.6396 - val_loss: 1.8541 - val_precision_1: 0.6550 - val_recall_1: 0.6007\n",
      "Epoch 20/25\n",
      "\u001b[1m344/344\u001b[0m \u001b[32m━━━━━━━━━━━━━━━━━━━━\u001b[0m\u001b[37m\u001b[0m \u001b[1m2s\u001b[0m 5ms/step - accuracy: 0.9680 - loss: 0.1082 - precision_1: 0.9594 - recall_1: 0.9541 - val_accuracy: 0.6303 - val_loss: 1.9219 - val_precision_1: 0.6426 - val_recall_1: 0.5907\n",
      "Epoch 21/25\n",
      "\u001b[1m344/344\u001b[0m \u001b[32m━━━━━━━━━━━━━━━━━━━━\u001b[0m\u001b[37m\u001b[0m \u001b[1m2s\u001b[0m 5ms/step - accuracy: 0.9707 - loss: 0.1099 - precision_1: 0.9655 - recall_1: 0.9556 - val_accuracy: 0.6334 - val_loss: 1.9394 - val_precision_1: 0.6403 - val_recall_1: 0.6018\n",
      "Epoch 22/25\n",
      "\u001b[1m344/344\u001b[0m \u001b[32m━━━━━━━━━━━━━━━━━━━━\u001b[0m\u001b[37m\u001b[0m \u001b[1m2s\u001b[0m 5ms/step - accuracy: 0.9711 - loss: 0.1008 - precision_1: 0.9678 - recall_1: 0.9580 - val_accuracy: 0.6285 - val_loss: 1.9702 - val_precision_1: 0.6257 - val_recall_1: 0.6138\n",
      "Epoch 23/25\n",
      "\u001b[1m344/344\u001b[0m \u001b[32m━━━━━━━━━━━━━━━━━━━━\u001b[0m\u001b[37m\u001b[0m \u001b[1m2s\u001b[0m 5ms/step - accuracy: 0.9737 - loss: 0.0927 - precision_1: 0.9666 - recall_1: 0.9621 - val_accuracy: 0.6320 - val_loss: 2.0648 - val_precision_1: 0.6467 - val_recall_1: 0.5947\n",
      "Epoch 24/25\n",
      "\u001b[1m344/344\u001b[0m \u001b[32m━━━━━━━━━━━━━━━━━━━━\u001b[0m\u001b[37m\u001b[0m \u001b[1m2s\u001b[0m 5ms/step - accuracy: 0.9773 - loss: 0.0828 - precision_1: 0.9762 - recall_1: 0.9604 - val_accuracy: 0.6287 - val_loss: 2.1330 - val_precision_1: 0.6454 - val_recall_1: 0.5840\n",
      "Epoch 25/25\n",
      "\u001b[1m344/344\u001b[0m \u001b[32m━━━━━━━━━━━━━━━━━━━━\u001b[0m\u001b[37m\u001b[0m \u001b[1m2s\u001b[0m 5ms/step - accuracy: 0.9784 - loss: 0.0795 - precision_1: 0.9764 - recall_1: 0.9662 - val_accuracy: 0.6267 - val_loss: 2.1624 - val_precision_1: 0.6377 - val_recall_1: 0.5947\n"
     ]
    }
   ],
   "source": [
    "model=model1()\n",
    "model.summary()\n",
    "history=model.fit(tr_x, tr_y, epochs=epochs, batch_size=batchsize, validation_split=0.2)"
   ]
  },
  {
   "cell_type": "markdown",
   "metadata": {},
   "source": [
    "Thử dữ liệu với data test"
   ]
  },
  {
   "cell_type": "code",
   "execution_count": 10,
   "metadata": {},
   "outputs": [
    {
     "name": "stdout",
     "output_type": "stream",
     "text": [
      "\u001b[1m111/111\u001b[0m \u001b[32m━━━━━━━━━━━━━━━━━━━━\u001b[0m\u001b[37m\u001b[0m \u001b[1m0s\u001b[0m 1ms/step  \n",
      "              precision    recall  f1-score   support\n",
      "\n",
      "           0       0.61      0.62      0.62      1001\n",
      "           1       0.60      0.60      0.60      1430\n",
      "           2       0.70      0.68      0.69      1103\n",
      "\n",
      "    accuracy                           0.63      3534\n",
      "   macro avg       0.63      0.63      0.63      3534\n",
      "weighted avg       0.63      0.63      0.63      3534\n",
      "\n"
     ]
    }
   ],
   "source": [
    "pred_label=model.predict(t_x)\n",
    "predicted=np.argmax(pred_label,axis=1)\n",
    "true=np.argmax(t_y,axis=1)\n",
    "print(classification_report(true, predicted))\n"
   ]
  }
 ],
 "metadata": {
  "kernelspec": {
   "display_name": "Python 3",
   "language": "python",
   "name": "python3"
  },
  "language_info": {
   "codemirror_mode": {
    "name": "ipython",
    "version": 3
   },
   "file_extension": ".py",
   "mimetype": "text/x-python",
   "name": "python",
   "nbconvert_exporter": "python",
   "pygments_lexer": "ipython3",
   "version": "3.12.3"
  }
 },
 "nbformat": 4,
 "nbformat_minor": 2
}
